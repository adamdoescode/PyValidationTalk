{
 "cells": [
  {
   "cell_type": "code",
   "execution_count": 3,
   "metadata": {},
   "outputs": [
    {
     "name": "stdout",
     "output_type": "stream",
     "text": [
      "The autoreload extension is already loaded. To reload it, use:\n",
      "  %reload_ext autoreload\n"
     ]
    }
   ],
   "source": [
    "%load_ext autoreload\n",
    "%autoreload 2"
   ]
  },
  {
   "cell_type": "code",
   "execution_count": 4,
   "metadata": {},
   "outputs": [
    {
     "data": {
      "text/html": [
       "<div>\n",
       "<style scoped>\n",
       "    .dataframe tbody tr th:only-of-type {\n",
       "        vertical-align: middle;\n",
       "    }\n",
       "\n",
       "    .dataframe tbody tr th {\n",
       "        vertical-align: top;\n",
       "    }\n",
       "\n",
       "    .dataframe thead th {\n",
       "        text-align: right;\n",
       "    }\n",
       "</style>\n",
       "<table border=\"1\" class=\"dataframe\">\n",
       "  <thead>\n",
       "    <tr style=\"text-align: right;\">\n",
       "      <th></th>\n",
       "      <th>text</th>\n",
       "      <th>int between 0 and 1e6</th>\n",
       "      <th>float between -1 and 1</th>\n",
       "    </tr>\n",
       "  </thead>\n",
       "  <tbody>\n",
       "    <tr>\n",
       "      <th>0</th>\n",
       "      <td>row0</td>\n",
       "      <td>656434</td>\n",
       "      <td>0.467603</td>\n",
       "    </tr>\n",
       "    <tr>\n",
       "      <th>1</th>\n",
       "      <td>row1</td>\n",
       "      <td>965532</td>\n",
       "      <td>-0.324266</td>\n",
       "    </tr>\n",
       "    <tr>\n",
       "      <th>2</th>\n",
       "      <td>row2</td>\n",
       "      <td>924427</td>\n",
       "      <td>0.317669</td>\n",
       "    </tr>\n",
       "    <tr>\n",
       "      <th>3</th>\n",
       "      <td>row3</td>\n",
       "      <td>691342</td>\n",
       "      <td>0.794565</td>\n",
       "    </tr>\n",
       "    <tr>\n",
       "      <th>4</th>\n",
       "      <td>row4</td>\n",
       "      <td>293081</td>\n",
       "      <td>-0.603171</td>\n",
       "    </tr>\n",
       "    <tr>\n",
       "      <th>5</th>\n",
       "      <td>row5</td>\n",
       "      <td>435383</td>\n",
       "      <td>0.766100</td>\n",
       "    </tr>\n",
       "    <tr>\n",
       "      <th>6</th>\n",
       "      <td>row6</td>\n",
       "      <td>58113</td>\n",
       "      <td>-0.516951</td>\n",
       "    </tr>\n",
       "    <tr>\n",
       "      <th>7</th>\n",
       "      <td>row7</td>\n",
       "      <td>781710</td>\n",
       "      <td>-0.570904</td>\n",
       "    </tr>\n",
       "    <tr>\n",
       "      <th>8</th>\n",
       "      <td>row8</td>\n",
       "      <td>639600</td>\n",
       "      <td>0.684790</td>\n",
       "    </tr>\n",
       "    <tr>\n",
       "      <th>9</th>\n",
       "      <td>row9</td>\n",
       "      <td>834882</td>\n",
       "      <td>0.850383</td>\n",
       "    </tr>\n",
       "  </tbody>\n",
       "</table>\n",
       "</div>"
      ],
      "text/plain": [
       "   text  int between 0 and 1e6  float between -1 and 1\n",
       "0  row0                 656434                0.467603\n",
       "1  row1                 965532               -0.324266\n",
       "2  row2                 924427                0.317669\n",
       "3  row3                 691342                0.794565\n",
       "4  row4                 293081               -0.603171\n",
       "5  row5                 435383                0.766100\n",
       "6  row6                  58113               -0.516951\n",
       "7  row7                 781710               -0.570904\n",
       "8  row8                 639600                0.684790\n",
       "9  row9                 834882                0.850383"
      ]
     },
     "execution_count": 4,
     "metadata": {},
     "output_type": "execute_result"
    }
   ],
   "source": [
    "import numpy as np\n",
    "import pandas as pd\n",
    "from PyVal import config\n",
    "\n",
    "n_rows = 10\n",
    "\n",
    "some_good_data = pd.DataFrame(\n",
    "    {\n",
    "        \"text\": [f\"row{x}\" for x in range(n_rows)],\n",
    "        \"int between 0 and 1e6\": np.random.randint(0,1e6,n_rows),\n",
    "        \"float between -1 and 1\": np.random.uniform(-1,1,n_rows)\n",
    "    }\n",
    ")\n",
    "\n",
    "some_good_data.to_csv(config.good_data)\n",
    "some_good_data"
   ]
  },
  {
   "cell_type": "code",
   "execution_count": null,
   "metadata": {},
   "outputs": [],
   "source": [
    "some_spicy_data = some_good_data.copy()\n"
   ]
  }
 ],
 "metadata": {
  "kernelspec": {
   "display_name": "Python 3.10.16 ('PyValidationTalk')",
   "language": "python",
   "name": "python3"
  },
  "language_info": {
   "codemirror_mode": {
    "name": "ipython",
    "version": 3
   },
   "file_extension": ".py",
   "mimetype": "text/x-python",
   "name": "python",
   "nbconvert_exporter": "python",
   "pygments_lexer": "ipython3",
   "version": "3.10.16"
  },
  "orig_nbformat": 4,
  "vscode": {
   "interpreter": {
    "hash": "82e5b7a9efff3908d415eaa8342a3911391973a3af856d756f3d9116f0b58608"
   }
  }
 },
 "nbformat": 4,
 "nbformat_minor": 2
}
