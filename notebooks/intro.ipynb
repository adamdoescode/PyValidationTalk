{
 "cells": [
  {
   "cell_type": "markdown",
   "metadata": {},
   "source": [
    "# pd.read_csv is NOT all you need: DataFrame validation in Python"
   ]
  },
  {
   "cell_type": "markdown",
   "metadata": {},
   "source": [
    "## About Me\n",
    "\n",
    "- *Data Analyst/Scientist*, or maybe just *Data Tradie* (credit to **Kale Miller** for this term)\n",
    "- Deals with smol data; from ~5 to 1e7 rows.\n",
    "  - Once had to use a generator loop in python to parse something too big to fit into memory.\n",
    "- Training in *Biostatistics* (but no one can prepare you for real world datasets).\n",
    "- Background in biology, bioinformatics.\n",
    "- Some training in R but my only Python schooling comes from these meetups and using it in the real world."
   ]
  },
  {
   "cell_type": "markdown",
   "metadata": {},
   "source": [
    "# Why validate anyway?\n",
    "\n",
    "Real world data is messy and strange!\n",
    "\n",
    "- Typos.\n",
    "- Excel magic behaviour.\n",
    "- No one actually knows about [ISO 8601](https://en.wikipedia.org/wiki/ISO_8601).\n",
    "- Sometimes numeric rows get cast to string in csv files 🤷‍♀️\n",
    "- Someone put a text comment in a numeric column\n",
    "- Your own code introduced something cursed"
   ]
  },
  {
   "cell_type": "code",
   "execution_count": 1,
   "metadata": {},
   "outputs": [],
   "source": [
    "%load_ext autoreload\n",
    "%autoreload 2"
   ]
  },
  {
   "cell_type": "code",
   "execution_count": 11,
   "metadata": {},
   "outputs": [
    {
     "data": {
      "text/html": [
       "<div>\n",
       "<style scoped>\n",
       "    .dataframe tbody tr th:only-of-type {\n",
       "        vertical-align: middle;\n",
       "    }\n",
       "\n",
       "    .dataframe tbody tr th {\n",
       "        vertical-align: top;\n",
       "    }\n",
       "\n",
       "    .dataframe thead th {\n",
       "        text-align: right;\n",
       "    }\n",
       "</style>\n",
       "<table border=\"1\" class=\"dataframe\">\n",
       "  <thead>\n",
       "    <tr style=\"text-align: right;\">\n",
       "      <th></th>\n",
       "      <th>text</th>\n",
       "      <th>int between 0 and 1e6</th>\n",
       "      <th>float between -1 and 1</th>\n",
       "    </tr>\n",
       "  </thead>\n",
       "  <tbody>\n",
       "    <tr>\n",
       "      <th>0</th>\n",
       "      <td>row0</td>\n",
       "      <td>656434</td>\n",
       "      <td>0.467603</td>\n",
       "    </tr>\n",
       "    <tr>\n",
       "      <th>1</th>\n",
       "      <td>row1</td>\n",
       "      <td>965532</td>\n",
       "      <td>-0.324266</td>\n",
       "    </tr>\n",
       "  </tbody>\n",
       "</table>\n",
       "</div>"
      ],
      "text/plain": [
       "   text  int between 0 and 1e6  float between -1 and 1\n",
       "0  row0                 656434                0.467603\n",
       "1  row1                 965532               -0.324266"
      ]
     },
     "metadata": {},
     "output_type": "display_data"
    },
    {
     "data": {
      "text/plain": [
       "text                       object\n",
       "int between 0 and 1e6       int64\n",
       "float between -1 and 1    float64\n",
       "dtype: object"
      ]
     },
     "execution_count": 11,
     "metadata": {},
     "output_type": "execute_result"
    }
   ],
   "source": [
    "# import some good data\n",
    "import pandas as pd\n",
    "from PyVal import config\n",
    "\n",
    "good_data = pd.read_csv(config.good_data,index_col=0)\n",
    "display(good_data.head(2))\n",
    "good_data.dtypes"
   ]
  },
  {
   "cell_type": "code",
   "execution_count": null,
   "metadata": {},
   "outputs": [],
   "source": [
    "spicy_data = pd.read_csv(config.spicy_data,index_col=0)"
   ]
  },
  {
   "cell_type": "code",
   "execution_count": null,
   "metadata": {},
   "outputs": [],
   "source": []
  },
  {
   "cell_type": "code",
   "execution_count": null,
   "metadata": {},
   "outputs": [],
   "source": []
  }
 ],
 "metadata": {
  "kernelspec": {
   "display_name": "Python 3.10.16 ('PyValidationTalk')",
   "language": "python",
   "name": "python3"
  },
  "language_info": {
   "codemirror_mode": {
    "name": "ipython",
    "version": 3
   },
   "file_extension": ".py",
   "mimetype": "text/x-python",
   "name": "python",
   "nbconvert_exporter": "python",
   "pygments_lexer": "ipython3",
   "version": "3.10.16"
  },
  "orig_nbformat": 4,
  "vscode": {
   "interpreter": {
    "hash": "82e5b7a9efff3908d415eaa8342a3911391973a3af856d756f3d9116f0b58608"
   }
  }
 },
 "nbformat": 4,
 "nbformat_minor": 2
}
