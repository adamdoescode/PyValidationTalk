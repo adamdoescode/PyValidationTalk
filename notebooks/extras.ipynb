{
 "cells": [
  {
   "cell_type": "markdown",
   "metadata": {},
   "source": [
    "# Object dtype\n",
    "\n",
    "Here is an example of how we can get a numeric `Series` cast to `Object`"
   ]
  },
  {
   "cell_type": "code",
   "execution_count": 2,
   "metadata": {
    "metadata": {}
   },
   "outputs": [
    {
     "name": "stdout",
     "output_type": "stream",
     "text": [
      "float64 \t [0. 0.]\n",
      "object \t\t [0.0 0.0 'a']\n"
     ]
    }
   ],
   "source": [
    "# make an array of zeros\n",
    "import numpy as np\n",
    "import pandas as pd\n",
    "\n",
    "\n",
    "zeros = pd.Series(np.zeros(2))\n",
    "print(zeros.dtype, \"\\t\", zeros.values)\n",
    "# add a string... and we get an object dtype\n",
    "zeros.loc[2] = \"a\"\n",
    "print(zeros.dtype, \"\\t\\t\", zeros.values)\n",
    "# we need to use `pandas` here because numpy sensibly doesn't let you do this!"
   ]
  },
  {
   "cell_type": "code",
   "execution_count": null,
   "metadata": {},
   "outputs": [],
   "source": []
  }
 ],
 "metadata": {
  "kernelspec": {
   "display_name": "PyValidationTalk",
   "language": "python",
   "name": "python3"
  },
  "language_info": {
   "codemirror_mode": {
    "name": "ipython",
    "version": 3
   },
   "file_extension": ".py",
   "mimetype": "text/x-python",
   "name": "python",
   "nbconvert_exporter": "python",
   "pygments_lexer": "ipython3",
   "version": "3.10.16"
  }
 },
 "nbformat": 4,
 "nbformat_minor": 2
}
